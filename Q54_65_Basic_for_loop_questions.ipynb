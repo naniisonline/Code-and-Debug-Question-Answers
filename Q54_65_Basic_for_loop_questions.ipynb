{
  "nbformat": 4,
  "nbformat_minor": 0,
  "metadata": {
    "colab": {
      "provenance": []
    },
    "kernelspec": {
      "name": "python3",
      "display_name": "Python 3"
    },
    "language_info": {
      "name": "python"
    }
  },
  "cells": [
    {
      "cell_type": "markdown",
      "source": [
        "Q54. Ask a number from user. Print all the numbers from 1 to that number."
      ],
      "metadata": {
        "id": "l4lAv2tftc2M"
      }
    },
    {
      "cell_type": "code",
      "execution_count": 7,
      "metadata": {
        "colab": {
          "base_uri": "https://localhost:8080/"
        },
        "id": "NkliFz9TtOWc",
        "outputId": "3d54d0ed-8377-4fd0-d5e2-851708cbf4cf"
      },
      "outputs": [
        {
          "output_type": "stream",
          "name": "stdout",
          "text": [
            "Enter the number: 5\n",
            "1\n",
            "2\n",
            "3\n",
            "4\n",
            "5\n"
          ]
        }
      ],
      "source": [
        "num = int(input(\"Enter the number: \"))\n",
        "\n",
        "for i in range(1, num+1):\n",
        "  print(i)"
      ]
    },
    {
      "cell_type": "markdown",
      "source": [
        "Q55. Ask a number (N) from user. Print all the numbers from N to 1"
      ],
      "metadata": {
        "id": "7QghASJ0t9X9"
      }
    },
    {
      "cell_type": "code",
      "source": [
        "N = int(input(\"Enter the number: \"))\n",
        "\n",
        "for i in range(N, 0, -1):\n",
        "  print(i)"
      ],
      "metadata": {
        "id": "I46A_rORtzLD",
        "colab": {
          "base_uri": "https://localhost:8080/"
        },
        "outputId": "bf6d15c0-11e9-4bd6-ba29-0a0afeeca88d"
      },
      "execution_count": 6,
      "outputs": [
        {
          "output_type": "stream",
          "name": "stdout",
          "text": [
            "Enter the number: 4\n",
            "4\n",
            "3\n",
            "2\n",
            "1\n"
          ]
        }
      ]
    },
    {
      "cell_type": "markdown",
      "source": [
        "Q56. Ask start number and end number from user. Print all the numbers\n",
        "from start to end using while loop."
      ],
      "metadata": {
        "id": "JvfjV3oyyqm5"
      }
    },
    {
      "cell_type": "code",
      "source": [
        "num1 = int(input(\"Enter the start number: \"))\n",
        "num2 = int(input(\"Enter the end number: \"))\n",
        "\n",
        "for i in range(num1, num2+1):\n",
        "  print(i)"
      ],
      "metadata": {
        "id": "Ufy90gkyuXTK",
        "colab": {
          "base_uri": "https://localhost:8080/"
        },
        "outputId": "c5b7aaa9-f3f1-455d-8dfd-df568ffca897"
      },
      "execution_count": 8,
      "outputs": [
        {
          "output_type": "stream",
          "name": "stdout",
          "text": [
            "Enter the start number: 4\n",
            "Enter the end number: 9\n",
            "4\n",
            "5\n",
            "6\n",
            "7\n",
            "8\n",
            "9\n"
          ]
        }
      ]
    },
    {
      "cell_type": "markdown",
      "source": [
        "Q57. Calculate the sum of all the numbers from 1 to 10"
      ],
      "metadata": {
        "id": "YhCJKS5AzEsh"
      }
    },
    {
      "cell_type": "code",
      "source": [
        "sum_num = 0\n",
        "\n",
        "for i in range(1, 11):\n",
        "  sum_num += i\n",
        "\n",
        "sum_num"
      ],
      "metadata": {
        "colab": {
          "base_uri": "https://localhost:8080/"
        },
        "id": "KYJUyGWbzECR",
        "outputId": "846d6cf9-2cc7-4f9f-98ab-cf6e8a9e3560"
      },
      "execution_count": 10,
      "outputs": [
        {
          "output_type": "execute_result",
          "data": {
            "text/plain": [
              "55"
            ]
          },
          "metadata": {},
          "execution_count": 10
        }
      ]
    },
    {
      "cell_type": "markdown",
      "source": [
        "Q58. Calculate product of all the numbers from 1 to 10."
      ],
      "metadata": {
        "id": "FwEd81xYzfTO"
      }
    },
    {
      "cell_type": "code",
      "source": [
        "pro_num = 1\n",
        "\n",
        "for i in range(1, 11):\n",
        "  pro_num *= i\n",
        "\n",
        "print(pro_num)"
      ],
      "metadata": {
        "colab": {
          "base_uri": "https://localhost:8080/"
        },
        "id": "mCj5RgALzAT_",
        "outputId": "045dad31-6e4f-4ec8-e182-2ca7e736c7a1"
      },
      "execution_count": 11,
      "outputs": [
        {
          "output_type": "stream",
          "name": "stdout",
          "text": [
            "3628800\n"
          ]
        }
      ]
    },
    {
      "cell_type": "markdown",
      "source": [
        "Q59. Calculate how many numbers are divisible by 7 from 1 to 100."
      ],
      "metadata": {
        "id": "q1nJECxmz1kT"
      }
    },
    {
      "cell_type": "code",
      "source": [
        "div_by_seven = 0\n",
        "\n",
        "for i in range(1, 101):\n",
        "  if i % 7 == 0:\n",
        "    div_by_seven += 1\n",
        "\n",
        "print(div_by_seven)"
      ],
      "metadata": {
        "colab": {
          "base_uri": "https://localhost:8080/"
        },
        "id": "5euW0F1DzxWY",
        "outputId": "30d0dd7d-b39a-42aa-ae8f-54e69b4e7019"
      },
      "execution_count": 13,
      "outputs": [
        {
          "output_type": "stream",
          "name": "stdout",
          "text": [
            "14\n"
          ]
        }
      ]
    },
    {
      "cell_type": "markdown",
      "source": [
        "Q60. Calculate how many numbers are divisible by both 6 and 7 between 1\n",
        "to 200."
      ],
      "metadata": {
        "id": "yRFxjILk0Vho"
      }
    },
    {
      "cell_type": "code",
      "source": [
        "div_by_six_sev = 0\n",
        "\n",
        "for i in range(1, 201):\n",
        "  if i%6 == 0 and i%7 == 0:\n",
        "    div_by_six_sev += 1\n",
        "\n",
        "print(div_by_six_sev)"
      ],
      "metadata": {
        "colab": {
          "base_uri": "https://localhost:8080/"
        },
        "id": "MNaVsoSo0Jqw",
        "outputId": "c1b2f845-ff82-4641-da14-0a393b988b11"
      },
      "execution_count": 14,
      "outputs": [
        {
          "output_type": "stream",
          "name": "stdout",
          "text": [
            "4\n"
          ]
        }
      ]
    },
    {
      "cell_type": "markdown",
      "source": [
        "Q61. Write a program to calculate the sum of all the numbers divisible by 4\n",
        "from 20 to 50"
      ],
      "metadata": {
        "id": "RoG04Qfq1ElA"
      }
    },
    {
      "cell_type": "code",
      "source": [
        "sum_num = 0\n",
        "\n",
        "for i in range(20, 51):\n",
        "  if i%4 == 0:\n",
        "    sum_num += i\n",
        "\n",
        "print(sum_num)"
      ],
      "metadata": {
        "colab": {
          "base_uri": "https://localhost:8080/"
        },
        "id": "mODwz-Qz0pfb",
        "outputId": "e2c1270c-19d9-4a5d-98a8-f5906bc26c48"
      },
      "execution_count": 16,
      "outputs": [
        {
          "output_type": "stream",
          "name": "stdout",
          "text": [
            "272\n"
          ]
        }
      ]
    },
    {
      "cell_type": "markdown",
      "source": [
        "Q62. Calculate how many numbers are divisible by 6 and 7 between 1 to\n",
        "200."
      ],
      "metadata": {
        "id": "BPgbxSES3ODS"
      }
    },
    {
      "cell_type": "code",
      "source": [
        "sum_num = 0\n",
        "\n",
        "for i in range(1, 201):\n",
        "  if i%6 == 0 and i%7 ==0:\n",
        "    sum_num += 1\n",
        "\n",
        "sum_num\n"
      ],
      "metadata": {
        "colab": {
          "base_uri": "https://localhost:8080/"
        },
        "id": "M-NkM8YY1YEh",
        "outputId": "fcf35a3e-6584-42ba-c561-e2ce5503082f"
      },
      "execution_count": 17,
      "outputs": [
        {
          "output_type": "execute_result",
          "data": {
            "text/plain": [
              "4"
            ]
          },
          "metadata": {},
          "execution_count": 17
        }
      ]
    },
    {
      "cell_type": "markdown",
      "source": [
        "Q63. Ask a number from user. Print the multiplication table of that number."
      ],
      "metadata": {
        "id": "pc6AQWzy3-B2"
      }
    },
    {
      "cell_type": "code",
      "source": [
        "num = int(input(\"Enter the number: \"))\n",
        "\n",
        "for i in range(1, 11):\n",
        "  print(f\"{num} x {i} = {i*num}\")"
      ],
      "metadata": {
        "colab": {
          "base_uri": "https://localhost:8080/"
        },
        "id": "8FQ4ubQR3uXm",
        "outputId": "b5b7a9f9-ba68-47e3-ef11-ccf37f000ba9"
      },
      "execution_count": 20,
      "outputs": [
        {
          "output_type": "stream",
          "name": "stdout",
          "text": [
            "Enter the number: 5\n",
            "5 x 1 = 5\n",
            "5 x 2 = 10\n",
            "5 x 3 = 15\n",
            "5 x 4 = 20\n",
            "5 x 5 = 25\n",
            "5 x 6 = 30\n",
            "5 x 7 = 35\n",
            "5 x 8 = 40\n",
            "5 x 9 = 45\n",
            "5 x 10 = 50\n"
          ]
        }
      ]
    },
    {
      "cell_type": "markdown",
      "source": [
        "Q64. Calculate factorial of a number entered by user."
      ],
      "metadata": {
        "id": "I5ZrQYDU4-iC"
      }
    },
    {
      "cell_type": "code",
      "source": [
        "num = int(input(\"Enter the number: \"))\n",
        "factorial = 1\n",
        "for i in range(num, 0, -1):\n",
        "  factorial  *= i\n",
        "\n",
        "print(factorial)"
      ],
      "metadata": {
        "colab": {
          "base_uri": "https://localhost:8080/"
        },
        "id": "3KUd5k884BP5",
        "outputId": "96d53e56-1143-4a7f-b7bd-db66b02daa0b"
      },
      "execution_count": 22,
      "outputs": [
        {
          "output_type": "stream",
          "name": "stdout",
          "text": [
            "Enter the number: 5\n",
            "120\n"
          ]
        }
      ]
    },
    {
      "cell_type": "markdown",
      "source": [
        "Q65. Ask to numbers x and y from the user. If x<y then print all the\n",
        "numbers from x to y, but if y<x then print all the numbers from y to x"
      ],
      "metadata": {
        "id": "KzLgbiHA5pXr"
      }
    },
    {
      "cell_type": "code",
      "source": [
        "x = int(input(\"Enter the x number: \"))\n",
        "y = int(input(\"Enter the y number: \"))\n",
        "\n",
        "if x<y:\n",
        "  for i in range(x, y+1):\n",
        "    print(i)\n",
        "elif y<x:\n",
        "  for i in range(y ,x+1):\n",
        "    print(i)\n",
        "else:\n",
        "  ..."
      ],
      "metadata": {
        "colab": {
          "base_uri": "https://localhost:8080/"
        },
        "id": "zSZkVtTC5gwH",
        "outputId": "327175e8-fd88-4d9d-8d53-dacd3bbd1baf"
      },
      "execution_count": 30,
      "outputs": [
        {
          "output_type": "stream",
          "name": "stdout",
          "text": [
            "Enter the x number: 5\n",
            "Enter the y number: 3\n",
            "3\n",
            "4\n",
            "5\n"
          ]
        }
      ]
    },
    {
      "cell_type": "code",
      "source": [
        "55"
      ],
      "metadata": {
        "id": "cD_QllQZ6_Ea"
      },
      "execution_count": null,
      "outputs": []
    }
  ]
}